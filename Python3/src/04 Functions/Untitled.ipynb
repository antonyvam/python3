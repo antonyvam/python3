{
 "cells": [
  {
   "cell_type": "code",
   "execution_count": 1,
   "metadata": {},
   "outputs": [
    {
     "name": "stdout",
     "output_type": "stream",
     "text": [
      "--Call--\n",
      "> /Users/seddon/Anaconda37/anaconda3/lib/python3.7/site-packages/IPython/core/displayhook.py(252)__call__()\n",
      "-> def __call__(self, result=None):\n",
      "(Pdb) n\n",
      "> /Users/seddon/Anaconda37/anaconda3/lib/python3.7/site-packages/IPython/core/displayhook.py(258)__call__()\n",
      "-> self.check_for_underscore()\n",
      "(Pdb) n\n",
      "> /Users/seddon/Anaconda37/anaconda3/lib/python3.7/site-packages/IPython/core/displayhook.py(259)__call__()\n",
      "-> if result is not None and not self.quiet():\n",
      "(Pdb) l\n",
      "254  \t\n",
      "255  \t        This is invoked every time the interpreter needs to print, and is\n",
      "256  \t        activated by setting the variable sys.displayhook to it.\n",
      "257  \t        \"\"\"\n",
      "258  \t        self.check_for_underscore()\n",
      "259  ->\t        if result is not None and not self.quiet():\n",
      "260  \t            self.start_displayhook()\n",
      "261  \t            self.write_output_prompt()\n",
      "262  \t            format_dict, md_dict = self.compute_format_data(result)\n",
      "263  \t            self.update_user_ns(result)\n",
      "264  \t            self.fill_exec_result(result)\n",
      "(Pdb) c\n"
     ]
    }
   ],
   "source": [
    "x = 10\n",
    "y = 20\n",
    "x + y\n",
    "breakpoint()"
   ]
  },
  {
   "cell_type": "code",
   "execution_count": null,
   "metadata": {},
   "outputs": [],
   "source": []
  }
 ],
 "metadata": {
  "kernelspec": {
   "display_name": "Python 3",
   "language": "python",
   "name": "python3"
  },
  "language_info": {
   "codemirror_mode": {
    "name": "ipython",
    "version": 3
   },
   "file_extension": ".py",
   "mimetype": "text/x-python",
   "name": "python",
   "nbconvert_exporter": "python",
   "pygments_lexer": "ipython3",
   "version": "3.7.1"
  }
 },
 "nbformat": 4,
 "nbformat_minor": 2
}
