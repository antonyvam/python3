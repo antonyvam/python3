{
 "cells": [
  {
   "cell_type": "code",
   "execution_count": null,
   "metadata": {},
   "outputs": [],
   "source": [
    "# %load 01-compiler-and-interpreter.py\n",
    "import dis\n",
    "\n",
    "# the compiler generates bytecode for this function\n",
    "# and the interpreter works out what to do with each opcode\n",
    "def f(x, y):\n",
    "    return x + y\n",
    "\n",
    "print( f(\"ABC\", \"DEF\") )\n",
    "print( f(5, 7) )\n",
    "\n",
    "# look at the bytecode\n",
    "dis.dis(f)\n",
    "\n",
    "# the disassembler generates the following\n",
    "'''\n",
    "  6           0 LOAD_FAST                0 (x)\n",
    "              3 LOAD_FAST                1 (y)\n",
    "              6 BINARY_ADD          \n",
    "              7 RETURN_VALUE \n",
    "'''\n",
    "# note how BINARY_ADD is interpreted differently for the case of str and int\n",
    "\n",
    "\n",
    "\n"
   ]
  },
  {
   "cell_type": "markdown",
   "metadata": {},
   "source": [
    "The dis module is used to disassemble Python byte code.  Byte code is automatically produced by the Python complier.  In this example we disassemble the function f.  Note that this function adds two objects together, but the objects can be stings or integers.  You might expect to see a difference between adding two strings together and adding two integers together, but as you can see from the disassembly that is not the case.\n",
    "In fact, the two cases are differented by the Python Interpreter which consumes the byte code."
   ]
  },
  {
   "cell_type": "code",
   "execution_count": null,
   "metadata": {},
   "outputs": [],
   "source": [
    "# %load source_code.txt\n",
    "   case BINARY_ADD:\n",
    "            w = POP();\n",
    "            v = TOP();\n",
    "            if (PyInt_CheckExact(v) && PyInt_CheckExact(w)) {\n",
    "                /* INLINE: int + int */\n",
    "                register long a, b, i;\n",
    "                a = PyInt_AS_LONG(v);\n",
    "                b = PyInt_AS_LONG(w);\n",
    "                /* cast to avoid undefined behaviour\n",
    "                   on overflow */\n",
    "                i = (long)((unsigned long)a + b);\n",
    "                if ((i^a) < 0 && (i^b) < 0)\n",
    "                    goto slow_add;\n",
    "                x = PyInt_FromLong(i);\n",
    "            }\n",
    "            else if (PyString_CheckExact(v) &&\n",
    "                     PyString_CheckExact(w)) {\n",
    "                x = string_concatenate(v, w, f, next_instr);\n",
    "                /* string_concatenate consumed the ref to v */\n",
    "                goto skip_decref_vx;\n",
    "            }\n",
    "            else {\n",
    "              slow_add:\n",
    "                x = PyNumber_Add(v, w);\n",
    "            }\n",
    "            Py_DECREF(v);\n",
    "          skip_decref_vx:\n",
    "            Py_DECREF(w);\n",
    "            SET_TOP(x);\n",
    "            if (x != NULL) continue;\n",
    "            break;\n"
   ]
  },
  {
   "cell_type": "markdown",
   "metadata": {},
   "source": [
    "The above C code is a snippet from the Python interpreter.  In the interpreter there is a huge case statement that handles each byte code instruction and the above snippet shows part of the case for the BINARY_ADD instruction.  A cursory inspection of the code, clearly reveals that the code checks to see whether the arguments to BINARY_ADD are strings or ints.\n",
    "Typically the Python interpreter does nearly all the work executing Python code, with the compiler just performing the initial translation into rather simple byte code.  "
   ]
  }
 ],
 "metadata": {
  "kernelspec": {
   "display_name": "Python 3",
   "language": "python",
   "name": "python3"
  },
  "language_info": {
   "codemirror_mode": {
    "name": "ipython",
    "version": 3
   },
   "file_extension": ".py",
   "mimetype": "text/x-python",
   "name": "python",
   "nbconvert_exporter": "python",
   "pygments_lexer": "ipython3",
   "version": "3.7.1"
  }
 },
 "nbformat": 4,
 "nbformat_minor": 2
}
